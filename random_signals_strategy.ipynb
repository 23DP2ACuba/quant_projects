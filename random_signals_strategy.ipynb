{
 "cells": [
  {
   "cell_type": "code",
   "execution_count": 39,
   "id": "e6f737be",
   "metadata": {},
   "outputs": [],
   "source": [
    "import pandas as pd\n",
    "import yfinance as yf\n",
    "import numpy as np\n",
    "import plotly.graph_objects as go\n",
    "from plotly.subplots import make_subplots\n",
    "import pandas_ta as ta\n",
    "from tqdm import tqdm\n",
    "tqdm.pandas()\n",
    "\n",
    "tickers = [\"TSLA\", \"MSFT\", \"AAPL\", \"NVDA\"]"
   ]
  },
  {
   "cell_type": "code",
   "execution_count": 40,
   "id": "cecb5a57",
   "metadata": {},
   "outputs": [
    {
     "name": "stderr",
     "output_type": "stream",
     "text": [
      "C:\\Users\\admin\\AppData\\Local\\Temp\\ipykernel_19588\\1633098113.py:1: FutureWarning: YF.download() has changed argument auto_adjust default to True\n",
      "  data = yf.download(tickers=tickers, start=\"2020-01-01\", end=\"2025-01-01\", group_by=\"ticker\").dropna()\n",
      "[*********************100%***********************]  4 of 4 completed\n"
     ]
    }
   ],
   "source": [
    "data = yf.download(tickers=tickers, start=\"2020-01-01\", end=\"2025-01-01\", group_by=\"ticker\").dropna()"
   ]
  },
  {
   "cell_type": "code",
   "execution_count": 84,
   "id": "7f6e5818",
   "metadata": {},
   "outputs": [],
   "source": [
    "def generate_signal(row):\n",
    "    return np.random.choice([1, 0])\n",
    "\n",
    "def add_signal(df):\n",
    "    df = df.copy()\n",
    "    df[\"Signal\"] = df.apply(lambda row: generate_signal(row), axis=1)\n",
    "    return df\n",
    "\n",
    "def add_atr(df, length=14):\n",
    "    df = df.copy()\n",
    "    df[\"ATR\"] = ta.atr(df[\"High\"], df[\"Low\"], df[\"Close\"], length=length)\n",
    "    return df\n",
    "\n",
    "def preprocess_ticker(df):\n",
    "    df = df.copy()\n",
    "    df = add_signal(df)\n",
    "    df = add_atr(df)\n",
    "\n",
    "    df = df.dropna(subset=[\"ATR\", \"Signal\"]).reset_index(drop=True)\n",
    "    return df"
   ]
  },
  {
   "cell_type": "code",
   "execution_count": 85,
   "id": "874c7f0e",
   "metadata": {},
   "outputs": [],
   "source": [
    "from backtesting import Backtest, Strategy\n",
    "\n",
    "class RandomSignalsStrategy(Strategy):\n",
    "    base_size = 0.03\n",
    "    sl_ratio = 3\n",
    "    clamp_val = 0.2\n",
    "    smooth_f = True\n",
    "\n",
    "    def init(self):\n",
    "        self.signal = self.I(lambda: self.data.Signal)\n",
    "        self.atr = self.I(lambda: self.data.ATR)\n",
    "        self.allow_short = False\n",
    "        self.pnl_hist = []\n",
    "        if self.smooth_f:\n",
    "            self.prev_f = 0\n",
    "        \n",
    "\n",
    "    def calculate_f(self):\n",
    "        if len(self.pnl_hist) < 10:\n",
    "            return self.base_size\n",
    "        \n",
    "        pnl = np.array(self.pnl_hist)\n",
    "\n",
    "        w = pnl[pnl>0]\n",
    "\n",
    "        if len(w) == 0:\n",
    "            return self.base_size\n",
    "        \n",
    "        l = pnl[pnl<0]\n",
    "\n",
    "        p = len(w)/len(pnl)\n",
    "        q = 1 - p\n",
    "        b = w.mean() / abs(l.mean())\n",
    "        f = p - q/b\n",
    "        \n",
    "        f = np.clip(f, -self.clamp_val, self.clamp_val)\n",
    "\n",
    "        if self.smooth_f:\n",
    "            f = 0.3 * self.prev_f + 0.7 * f\n",
    "            self.prev_f = f\n",
    "\n",
    "        return f\n",
    "        \n",
    "\n",
    "\n",
    "    def next(self):\n",
    "        if np.isnan(self.data.ATR[-1]) or np.isnan(self.signal[-1]):\n",
    "            return\n",
    "        \n",
    "        f = self.calculate_f()\n",
    "\n",
    "        for trade in self.trades:\n",
    "            ts = self.sl_ratio * self.data.ATR[-1]\n",
    "            if trade.is_long:\n",
    "                trade.sl = max(trade.sl or -np.inf, self.data.Close[-1] - ts)\n",
    "            else:\n",
    "                trade.sl = min(trade.sl or np.inf, self.data.Close[-1] + ts)\n",
    "\n",
    "        curr_close = self.data.Close[-1]\n",
    "\n",
    "        if self.signal[-1] == 1 and not self.position:\n",
    "            sl = curr_close - self.sl_ratio * self.data.ATR[-1]\n",
    "            if not np.isnan(sl):\n",
    "                self.buy(size=f, sl=sl)\n",
    "\n",
    "        elif self.signal[-1] == 0 and not self.position and self.allow_short:\n",
    "            sl = curr_close + self.sl_ratio * self.data.ATR[-1]\n",
    "            if not np.isnan(sl):\n",
    "                self.sell(size=f, sl=sl)\n",
    "\n",
    "    def after_trade(self, trade):\n",
    "        self.pnl_hist.append(trade.pl)\n"
   ]
  },
  {
   "cell_type": "code",
   "execution_count": 86,
   "id": "be4ed52b",
   "metadata": {},
   "outputs": [
    {
     "name": "stdout",
     "output_type": "stream",
     "text": [
      "Running backtest for TSLA...\n",
      "Running backtest for MSFT...\n",
      "Running backtest for AAPL...\n",
      "Running backtest for NVDA...\n"
     ]
    },
    {
     "name": "stderr",
     "output_type": "stream",
     "text": [
      "C:\\Users\\admin\\AppData\\Local\\Temp\\ipykernel_19588\\2783625548.py:10: UserWarning: Data index is not datetime. Assuming simple periods, but `pd.DateTimeIndex` is advised.\n",
      "  bt = Backtest(df, RandomSignalsStrategy, cash=1000, commission=0.0002, trade_on_close=True)\n",
      "C:\\Users\\admin\\AppData\\Local\\Temp\\ipykernel_19588\\2783625548.py:10: UserWarning: Data index is not datetime. Assuming simple periods, but `pd.DateTimeIndex` is advised.\n",
      "  bt = Backtest(df, RandomSignalsStrategy, cash=1000, commission=0.0002, trade_on_close=True)\n",
      "C:\\Users\\admin\\AppData\\Local\\Temp\\ipykernel_19588\\2783625548.py:10: UserWarning: Data index is not datetime. Assuming simple periods, but `pd.DateTimeIndex` is advised.\n",
      "  bt = Backtest(df, RandomSignalsStrategy, cash=1000, commission=0.0002, trade_on_close=True)\n",
      "C:\\Users\\admin\\AppData\\Local\\Temp\\ipykernel_19588\\2783625548.py:10: UserWarning: Data index is not datetime. Assuming simple periods, but `pd.DateTimeIndex` is advised.\n",
      "  bt = Backtest(df, RandomSignalsStrategy, cash=1000, commission=0.0002, trade_on_close=True)\n"
     ]
    }
   ],
   "source": [
    "results = []\n",
    "dataframes = {}\n",
    "\n",
    "for ticker in tickers:\n",
    "    print(f\"Running backtest for {ticker}...\")\n",
    "    df = data[ticker].copy()\n",
    "    df = preprocess_ticker(df)\n",
    "    dataframes[ticker] = df\n",
    "\n",
    "    bt = Backtest(df, RandomSignalsStrategy, cash=1000, commission=0.0002, trade_on_close=True)\n",
    "    stats = bt.run()\n",
    "    results.append({\n",
    "        \"Ticker\": ticker,\n",
    "        \"Return_%\": stats[\"Return [%]\"],\n",
    "        \"Sharpe\": stats[\"Sharpe Ratio\"],\n",
    "        \"Win Rate\": stats[\"Win Rate [%]\"],\n",
    "        \"Trades\": stats[\"# Trades\"]\n",
    "    })\n",
    "\n",
    "    "
   ]
  },
  {
   "cell_type": "code",
   "execution_count": 87,
   "id": "1bad61a1",
   "metadata": {},
   "outputs": [
    {
     "name": "stdout",
     "output_type": "stream",
     "text": [
      "\n",
      "Per-asset performance:\n",
      "  Ticker  Return_%  Sharpe  Win Rate  Trades\n",
      "0   TSLA    11.150     NaN   100.000     1.0\n",
      "1   MSFT     0.000     NaN       NaN     0.0\n",
      "2   AAPL     0.000     NaN       NaN     0.0\n",
      "3   NVDA     8.513     NaN    42.857    28.0\n",
      "\n",
      "Aggregate Portfolio Performance:\n",
      "Aggregate Return [%]: 19.66\n",
      "Average Sharpe Ratio: nan\n"
     ]
    }
   ],
   "source": [
    "results_df = pd.DataFrame(results)\n",
    "print(\"\\nPer-asset performance:\")\n",
    "print(results_df.round(3))\n",
    "\n",
    "agg_return = sum(results_df[\"Return_%\"])\n",
    "agg_sharpe = results_df[\"Sharpe\"].mean()\n",
    "\n",
    "print(\"\\nAggregate Portfolio Performance:\")\n",
    "print(f\"Aggregate Return [%]: {agg_return:.2f}\")\n",
    "print(f\"Average Sharpe Ratio: {agg_sharpe:.2f}\")\n"
   ]
  }
 ],
 "metadata": {
  "kernelspec": {
   "display_name": "Python 3",
   "language": "python",
   "name": "python3"
  },
  "language_info": {
   "codemirror_mode": {
    "name": "ipython",
    "version": 3
   },
   "file_extension": ".py",
   "mimetype": "text/x-python",
   "name": "python",
   "nbconvert_exporter": "python",
   "pygments_lexer": "ipython3",
   "version": "3.11.1"
  }
 },
 "nbformat": 4,
 "nbformat_minor": 5
}
