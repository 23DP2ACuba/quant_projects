{
 "cells": [
  {
   "cell_type": "code",
   "execution_count": null,
   "id": "746fcfcb",
   "metadata": {
    "vscode": {
     "languageId": "plaintext"
    }
   },
   "outputs": [],
   "source": [
    "import yfinance as yf\n",
    "import pandas as pd\n",
    "import pandas as pd\n",
    "import matplotlib.pyplot as plt\n",
    "\n",
    "df_tickers = pd.read_csv(\"/content/S&P 500 Historical Components & Changes(07-12-2025).csv\")\n",
    "df_tickers.index = pd.to_datetime(df_tickers.index)\n",
    "def get_tickers(df_tickers, date):\n",
    "  if date >= df_tickers.index[-1]:\n",
    "    ticks = df_tickers.iloc[-1].tickers\n",
    "\n",
    "  else:\n",
    "    ticks = df_tickers.loc[date:].iloc[0].tickers\n",
    "\n",
    "  return ticks.split(\",\")\n"
   ]
  },
  {
   "cell_type": "code",
   "execution_count": null,
   "id": "7fbe4f46",
   "metadata": {
    "vscode": {
     "languageId": "plaintext"
    }
   },
   "outputs": [],
   "source": [
    "tickers = df_tickers.iloc[-1].tickers.split(\",\")\n",
    "df = yf.download(tickers, start=\"2015-01-01\")[\"Close\"]"
   ]
  },
  {
   "cell_type": "code",
   "execution_count": null,
   "id": "eb4d0f68",
   "metadata": {
    "vscode": {
     "languageId": "plaintext"
    }
   },
   "outputs": [],
   "source": [
    "monthly_p = df.resample(\"ME\").last()\n",
    "momentum = monthly_p.pct_change(12).shift(1)\n",
    "portfolio = pd.DataFrame(index=monthly_p.index, columns=monthly_p.columns)\n",
    "\n",
    "for date in momentum.index[12:]:\n",
    "  pf_date = momentum.loc[date]\n",
    "  rel_tickers = get_tickers(df_tickers, date)\n",
    "  pf_date=pf_date[pf_date.index.isin(rel_tickers)]\n",
    "  top20 = pf_date.nlargest(20).index\n",
    "  portfolio.loc[date, top20] = 1/20\n",
    "\n",
    "returns = monthly_p.pct_change().shift(-1)\n",
    "sr = (portfolio * returns).sum(axis=1)\n",
    "cum_returns_strat = (1+sr).cumprod()\n",
    "cum_returns_sp500 = (sp500.pct_change() + 1).cumprod()"
   ]
  },
  {
   "cell_type": "code",
   "execution_count": null,
   "id": "ecb58602",
   "metadata": {
    "vscode": {
     "languageId": "plaintext"
    }
   },
   "outputs": [],
   "source": [
    "plt.plot(cum_returns_strat)\n",
    "plt.plot(cum_returns_sp500)\n",
    "plt.title(\"cross_sec_strategy\")\n",
    "\n",
    "print(cum_returns_strat[-1])"
   ]
  }
 ],
 "metadata": {
  "language_info": {
   "name": "python"
  }
 },
 "nbformat": 4,
 "nbformat_minor": 5
}
