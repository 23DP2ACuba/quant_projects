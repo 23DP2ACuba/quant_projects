{
 "cells": [
  {
   "cell_type": "code",
   "execution_count": null,
   "id": "c854d891",
   "metadata": {},
   "outputs": [],
   "source": [
    "import numpy as np \n",
    "import pandas as pd\n",
    "import matplotlib.pyplot as plt\n",
    "import yfinance as yf "
   ]
  },
  {
   "cell_type": "code",
   "execution_count": null,
   "id": "f93b7c1c",
   "metadata": {},
   "outputs": [],
   "source": [
    "def download(ticker, start, end):\n",
    "    return yf.download(ticker, start=start, end=end)"
   ]
  },
  {
   "cell_type": "code",
   "execution_count": null,
   "id": "b47def97",
   "metadata": {},
   "outputs": [],
   "source": [
    "data = download(ticker=TICKER, start=START, end=END)"
   ]
  },
  {
   "cell_type": "code",
   "execution_count": null,
   "id": "12ee2c14",
   "metadata": {},
   "outputs": [],
   "source": [
    "\n",
    "TICKER = \"IBM\"\n",
    "START = \"2020-01-01\"\n",
    "END = \"2025-01-01\"\n",
    "PERIOD = 20\n",
    "COEF = 2\n",
    "\"\"\"BBAND visualization\"\"\"\n",
    "df = data.copy()\n",
    "df[\"tp\"] = (df[\"Close\"] + df[\"Low\"]+df[\"High\"])/3\n",
    "df[\"STD\"] = df[\"tp\"].rolling(PERIOD).std()\n",
    "df[\"MA\"] = df[\"tp\"].rolling(PERIOD).mean()\n",
    "df[\"Upper\"] = df[\"MA\"] + COEF*df[\"STD\"]\n",
    "df[\"Lower\"] = df[\"MA\"] - COEF*df[\"STD\"]\n",
    "df.dropna(inplace=True)\n",
    "\n",
    "def plot(data):\n",
    "    plt.plot(data[\"Close\"])\n",
    "    plt.plot(data[\"Upper\"], color=\"orange\")\n",
    "    plt.plot(data[\"Lower\"], color=\"orange\")\n",
    "    plt.fill_between(data.index, data[\"Upper\"],\n",
    "                     data[\"Lower\"], facecolor=\"orange\", alpha=0.1)\n",
    "    \n",
    "    plt.title(\"BBANDs\")\n",
    "    plt.show()\n",
    "    \n",
    "plot(data=df)"
   ]
  },
  {
   "cell_type": "code",
   "execution_count": null,
   "id": "1ba3a729",
   "metadata": {},
   "outputs": [],
   "source": [
    "import backtrader as bt\n",
    "from datetime import datetime"
   ]
  },
  {
   "cell_type": "code",
   "execution_count": null,
   "id": "682e08f4",
   "metadata": {},
   "outputs": [
    {
     "ename": "",
     "evalue": "",
     "output_type": "error",
     "traceback": [
      "\u001b[1;31mRunning cells with 'Python 3.13.7' requires the ipykernel package.\n",
      "\u001b[1;31m<a href='command:jupyter.createPythonEnvAndSelectController'>Create a Python Environment</a> with the required packages.\n",
      "\u001b[1;31mOr install 'ipykernel' using the command: 'c:/Users/artjoms.cubacins/AppData/Local/Microsoft/WindowsApps/python3.13.exe -m pip install ipykernel -U --user --force-reinstall'"
     ]
    }
   ],
   "source": [
    "\"\"\"Strategy\"\"\"\n",
    "class BBANDStrategy(bt.Strategy):\n",
    "    params = (\n",
    "        (\"period\", 20),\n",
    "        (\"std\", 2),\n",
    "        (\"size\", 20),\n",
    "    )\n",
    "\n",
    "    def __init__(self):\n",
    "        self.bollinger = bt.indicators.BollingerBands(\n",
    "            self.data.close, period=self.p.period, devfactor=self.p.std\n",
    "        )\n",
    "\n",
    "    def next(self):\n",
    "        if not self.position:\n",
    "            if self.data.close[0] > self.bollinger.lines.top[0]:\n",
    "                self.sell(size=self.p.size)\n",
    "            elif self.data.close[0] < self.bollinger.lines.bot[0]:\n",
    "                self.buy(size=self.p.size)\n",
    "        else:\n",
    "            if self.position.size > 0:\n",
    "                self.sell(exectype=bt.Order.Limit, price=self.bollinger.lines.mid[0], size=self.p.size)\n",
    "            else:\n",
    "                self.buy(exectype=bt.Order.Limit, price=self.bollinger.lines.mid[0], size=self.p.size)\n"
   ]
  },
  {
   "cell_type": "code",
   "execution_count": null,
   "id": "326020ca",
   "metadata": {},
   "outputs": [],
   "source": [
    "cerebro = bt.Cerebro()\n",
    "cerebro.addstrategy(BBANDStrategy)\n",
    "df = yf.Ticker(\"IBM\").history(start=\"2010-01-01\", end=\"2020-01-01\")\n",
    "print(df)\n",
    "\n",
    "data = bt.feeds.PandasData(dataname=df)\n",
    "cerebro.adddata(data)\n",
    "cerebro.addobserver(bt.observers.Value)\n",
    "cerebro.addanalyzer(bt.analyzers.SharpeRatio, riskfreerate=0.0)\n",
    "cerebro.addanalyzer(bt.analyzers.Returns)\n",
    "cerebro.addanalyzer(bt.analyzers.DrawDown)\n",
    "\n",
    "\n",
    "\n",
    "print(f\"Capital: {cerebro.broker.getvalue()}\")\n"
   ]
  },
  {
   "cell_type": "code",
   "execution_count": null,
   "id": "0a89a2e4",
   "metadata": {},
   "outputs": [],
   "source": [
    "results = cerebro.run()\n",
    "print(f\"Sharpe: {results[0].analyzers.sharperatio.get_analysis()['sharperatio']}\")\n",
    "print(f\"Ann. Return: {results[0].analyzers.returns.get_analysis()['rnorm100']}\")\n",
    "print(f\"Max Drawdown: {results[0].analyzers.drawdown.get_analysis()['max']['drawdown']}\")\n",
    "print(f\"Capital: {cerebro.broker.getvalue()}\")\n"
   ]
  }
 ],
 "metadata": {
  "kernelspec": {
   "display_name": "Python 3",
   "language": "python",
   "name": "python3"
  },
  "language_info": {
   "name": "python",
   "version": "3.13.7"
  }
 },
 "nbformat": 4,
 "nbformat_minor": 5
}
