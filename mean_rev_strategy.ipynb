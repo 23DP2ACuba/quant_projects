{
 "cells": [
  {
   "cell_type": "code",
   "execution_count": null,
   "id": "c854d891",
   "metadata": {},
   "outputs": [],
   "source": [
    "import numpy as np \n",
    "import pandas as pd\n",
    "import matplotlib.pyplot as plt\n",
    "import yfinance as yf "
   ]
  },
  {
   "cell_type": "code",
   "execution_count": null,
   "id": "f93b7c1c",
   "metadata": {},
   "outputs": [],
   "source": [
    "def download(ticker, start, end):\n",
    "    return yf.download(ticker, start=start, end=end)"
   ]
  },
  {
   "cell_type": "code",
   "execution_count": null,
   "id": "b47def97",
   "metadata": {},
   "outputs": [],
   "source": [
    "data = download(ticker=TICKER, start=START, end=END)"
   ]
  },
  {
   "cell_type": "code",
   "execution_count": null,
   "id": "12ee2c14",
   "metadata": {},
   "outputs": [],
   "source": [
    "\n",
    "TICKER = \"IBM\"\n",
    "START = \"2020-01-01\"\n",
    "END = \"2025-01-01\"\n",
    "PERIOD = 20\n",
    "COEF = 2\n",
    "\"\"\"BBAND visualization\"\"\"\n",
    "df = data.copy()\n",
    "df[\"tp\"] = (df[\"Close\"] + df[\"Low\"]+df[\"High\"])/3\n",
    "df[\"STD\"] = df[\"tp\"].rolling(PERIOD).std()\n",
    "df[\"MA\"] = df[\"tp\"].rolling(PERIOD).mean()\n",
    "df[\"Upper\"] = df[\"MA\"] + COEF*df[\"STD\"]\n",
    "df[\"Lower\"] = df[\"MA\"] - COEF*df[\"STD\"]\n",
    "df.dropna(inplace=True)\n",
    "\n",
    "def plot(data):\n",
    "    plt.plot(data[\"Close\"])\n",
    "    plt.plot(data[\"Upper\"], color=\"orange\")\n",
    "    plt.plot(data[\"Lower\"], color=\"orange\")\n",
    "    plt.fill_between(data.index, data[\"Upper\"],\n",
    "                     data[\"Lower\"], facecolor=\"orange\", alpha=0.1)\n",
    "    \n",
    "    plt.title(\"BBANDs\")\n",
    "    plt.show()\n",
    "    \n",
    "plot(data=df)"
   ]
  },
  {
   "cell_type": "code",
   "execution_count": null,
   "id": "682e08f4",
   "metadata": {},
   "outputs": [],
   "source": [
    "\"\"\"Strategy\"\"\""
   ]
  }
 ],
 "metadata": {
  "language_info": {
   "name": "python"
  }
 },
 "nbformat": 4,
 "nbformat_minor": 5
}
