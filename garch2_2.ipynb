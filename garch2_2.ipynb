{
 "cells": [
  {
   "cell_type": "markdown",
   "id": "ab51924e",
   "metadata": {},
   "source": [
    "### GARCH(2, 2) model\n",
    "$$a_t = \\varepsilon_t\\sqrt{\\omega + a_1a_{t-1}^2+a_2a_{t-2}^2 + \\beta_1\\sigma_{t-1}^2+\\beta_2\\sigma_{t-2}^2} $$\n",
    "$$a_0, a_1 \\approx 𝒩(0, 1) $$\n",
    "$$\\sigma_0 = 1, \\sigma_1 = 1$$\n",
    "$$\\varepsilon_t \\approx 𝒩 (0, 1)$$"
   ]
  },
  {
   "cell_type": "code",
   "execution_count": null,
   "id": "8313917a",
   "metadata": {},
   "outputs": [],
   "source": [
    "pip install arch"
   ]
  },
  {
   "cell_type": "code",
   "execution_count": null,
   "id": "385d284b",
   "metadata": {},
   "outputs": [],
   "source": [
    "from random import gauss\n",
    "import matplotlib.pyplot as plt\n",
    "import numpy as np\n",
    "from arch import arch_model\n",
    "from statsmodels.graphics.tsaplots import plot_acf, plot_pacf\n",
    "\n",
    "n = 1000\n",
    "omega = 0.5\n",
    "\n",
    "alpha_1 = 0.1\n",
    "alpha_2 = 0.2\n",
    "\n",
    "beta_1 = 0.3\n",
    "beta_2 = 0.4\n",
    "\n",
    "test_size = int(n*0.1)\n",
    "\n",
    "series = [gauss(0, 1), gauss(0.1)]\n",
    "vols = [1] * 2\n",
    "\n",
    "for _ in range(n):\n",
    "  new_vol = np.sqrt(omega+alpha_1*series[-1]**2 + alpha_2*series[-2]**2 + beta_1*vols[-1]**2 + beta_2*vols[-2]**2)\n",
    "  new_val = gauss(0, 1) * new_vol\n",
    "\n",
    "  vols.append(new_vol)\n",
    "  series.append(new_val)\n",
    "\n",
    "plt.plot(series)\n",
    "plt.plot(vols, color=\"red\")\n",
    "plt.title(\"Volatility and Data\")"
   ]
  },
  {
   "cell_type": "code",
   "execution_count": null,
   "id": "2adbea77",
   "metadata": {},
   "outputs": [],
   "source": [
    "train, test = series[:-test_size], series[-test_size:]\n",
    "model = arch_model(train, p=2, q=2)\n",
    "model_fit = model.fit()\n",
    "\n",
    "print(model_fit.summary())\n",
    "\n",
    "pred = model_fit.forecast(horizon=test_size)\n",
    "plt.plot(vols[-test_size:])\n",
    "plt.plot(np.sqrt(pred.variance.values[-1, :]), color=\"orange\")\n",
    "plt.legend([\"actual\", \"predicted\"])"
   ]
  },
  {
   "cell_type": "code",
   "execution_count": null,
   "id": "b9de8bea",
   "metadata": {},
   "outputs": [],
   "source": [
    "rolling_preds = []\n",
    "for i in range(test_size):\n",
    "  train = series[:-(test_size-i)]\n",
    "  model = arch_model(train, p=2, q=2)\n",
    "  model_fit= model.fit(disp=\"off\")\n",
    "  pred = model_fit.forecast(horizon = 1)\n",
    "  rolling_preds.append(np.sqrt(pred.variance.values[-1][0]))\n",
    "\n",
    "plt.plot(vols[-test_size:])\n",
    "plt.plot(rolling_preds, color=\"orange\")\n",
    "plt.legend([\"actual\", \"predicted\"])\n",
    "plt.title(\"vol prediction - rolling\")"
   ]
  }
 ],
 "metadata": {
  "language_info": {
   "name": "python"
  }
 },
 "nbformat": 4,
 "nbformat_minor": 5
}
