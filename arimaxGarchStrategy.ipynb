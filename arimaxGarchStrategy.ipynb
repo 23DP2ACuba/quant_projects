{
 "cells": [
  {
   "cell_type": "code",
   "execution_count": null,
   "id": "646d7160",
   "metadata": {
    "vscode": {
     "languageId": "plaintext"
    }
   },
   "outputs": [],
   "source": [
    "import numpy as np\n",
    "import pandas as pd\n",
    "import statsmodels.api as sm\n",
    "import matplotlib.pyplot as plt\n",
    "import yfinance as yf\n",
    "from statsmodels.graphics.tsaplots import plot_acf\n",
    "from statsmodels.stats.diagnostic import acorr_ljungbox\n",
    "from statsmodels.tsa.arima.model import ARIMA\n",
    "from arch import arch_model\n",
    "import warnings\n",
    "warnings.filterwarnings(\"ignore\", category=UserWarning)\n",
    "\n",
    "SYMBOL = \"TSLA\"\n",
    "START = \"2020-01-01\"\n",
    "END = \"2021-01-01\"\n",
    "window = 100"
   ]
  },
  {
   "cell_type": "code",
   "execution_count": null,
   "id": "8eb1912e",
   "metadata": {
    "vscode": {
     "languageId": "plaintext"
    }
   },
   "outputs": [],
   "source": [
    "data = yf.Ticker(SYMBOL).history(start=START, end=END)[[\"Close\"]]"
   ]
  },
  {
   "cell_type": "code",
   "execution_count": null,
   "id": "ac7eceda",
   "metadata": {
    "vscode": {
     "languageId": "plaintext"
    }
   },
   "outputs": [],
   "source": [
    "returns = np.log(data[\"Close\"]).diff().dropna()\n",
    "\n",
    "forecast_len = len(returns) - window\n",
    "forecasts = np.zeros(forecast_len)\n",
    "directions = np.zeros(forecast_len)\n",
    "vol_forecasts = np.zeros(forecast_len)\n",
    "\n",
    "for i in range(window, len(returns) - 1):\n",
    "    print(f\"Step {i}/{len(returns)-1}\", end=\"\\r\")\n",
    "    train = returns.iloc[i-window:i]\n",
    "\n",
    "    bic = []\n",
    "    orders_list = []\n",
    "    model_list = []\n",
    "\n",
    "    for p in range(1, 4):\n",
    "        for q in range(1, 4):\n",
    "            try:\n",
    "                model = ARIMA(train, order=(p, 0, q))\n",
    "                model_fit = model.fit()\n",
    "                bic.append(model_fit.bic)\n",
    "                orders_list.append((p, q))\n",
    "                model_list.append(model_fit)\n",
    "            except:\n",
    "                bic.append(np.inf)\n",
    "                orders_list.append((p, q))\n",
    "                model_list.append(None)\n",
    "\n",
    "    idx = int(np.argmin(bic))\n",
    "    best_model = model_list[idx]\n",
    "    best_p, best_q = orders_list[idx]\n",
    "\n",
    "    if best_model is None:\n",
    "        continue\n",
    "\n",
    "    arma_forecast = best_model.get_forecast(steps=1).predicted_mean.iloc[0]\n",
    "\n",
    "    residuals = best_model.resid\n",
    "    garch_model = arch_model(residuals, vol=\"GARCH\", p=1, q=1, mean=\"Zero\", dist=\"t\")\n",
    "    garch_fit = garch_model.fit(disp=\"off\")\n",
    "\n",
    "    garch_forecast = garch_fit.forecast(horizon=1)\n",
    "    vol_forecast = np.sqrt(garch_forecast.variance.iloc[-1, 0])\n",
    "\n",
    "    tmp = i - window\n",
    "    forecasts[tmp] = arma_forecast\n",
    "    directions[tmp] = 1 if arma_forecast > 0 else -1\n",
    "    vol_forecasts[tmp] = vol_forecast\n",
    "\n",
    "\n"
   ]
  },
  {
   "cell_type": "code",
   "execution_count": null,
   "id": "8d5472de",
   "metadata": {
    "vscode": {
     "languageId": "plaintext"
    }
   },
   "outputs": [],
   "source": [
    "strategy = pd.DataFrame({\n",
    "    \"f_Mean\": forecasts,\n",
    "    \"f_Direction\": directions,\n",
    "    \"f_Volatility\": vol_forecasts\n",
    "}, index=returns.index[window:len(returns)])\n",
    "\n",
    "strategy[\"Returns\"] = strategy[\"f_Direction\"] * returns.iloc[window:]\n",
    "\n",
    "curve = strategy[\"Returns\"].cumsum()\n",
    "long_curve = returns.iloc[window+1:].cumsum()\n",
    "\n",
    "total_return = pd.DataFrame({\n",
    "    \"Strategy\": curve,\n",
    "    \"Buy&Hold\": long_curve\n",
    "})\n",
    "total_return.plot(title=f\"{SYMBOL} Strategy vs Buy&Hold\", figsize=(12,6))\n",
    "plt.show()"
   ]
  }
 ],
 "metadata": {
  "language_info": {
   "name": "python"
  }
 },
 "nbformat": 4,
 "nbformat_minor": 5
}
